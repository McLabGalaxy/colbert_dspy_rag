{
 "cells": [
  {
   "cell_type": "code",
   "execution_count": 3,
   "id": "5c16d1d9",
   "metadata": {},
   "outputs": [],
   "source": [
    "#!pip install wikipedia"
   ]
  },
  {
   "cell_type": "code",
   "execution_count": 4,
   "id": "1cb542b9",
   "metadata": {},
   "outputs": [
    {
     "name": "stdout",
     "output_type": "stream",
     "text": [
      "The No-Brainer (Fringe)       :  63%|██████▉    | 12/19 [00:09<00:05,  1.28it/s]/miniconda/lib/python3.11/site-packages/wikipedia/wikipedia.py:389: GuessedAtParserWarning: No parser was explicitly specified, so I'm using the best available HTML parser for this system (\"lxml\"). This usually isn't a problem, but if you run this code on another system, or in a different virtual environment, it may use a different parser and behave differently.\n",
      "\n",
      "The code that caused this warning is on line 389 of the file /miniconda/lib/python3.11/site-packages/wikipedia/wikipedia.py. To get rid of this warning, pass the additional argument 'features=\"lxml\"' to the BeautifulSoup constructor.\n",
      "\n",
      "  lis = BeautifulSoup(html).find_all('li')\n",
      "Midnight (Fringe)             : 100%|███████████| 19/19 [00:15<00:00,  1.24it/s]\n"
     ]
    }
   ],
   "source": [
    "!python fringe_wikipedia.py"
   ]
  },
  {
   "cell_type": "code",
   "execution_count": null,
   "id": "b2f44c1a",
   "metadata": {},
   "outputs": [],
   "source": [
    "## Realtor"
   ]
  },
  {
   "cell_type": "code",
   "execution_count": 5,
   "id": "fa8d3f22",
   "metadata": {},
   "outputs": [
    {
     "name": "stdout",
     "output_type": "stream",
     "text": [
      "--2024-03-18 06:18:33--  https://downloads.cs.stanford.edu/nlp/data/colbert/colbertv2/colbertv2.0.tar.gz\n",
      "Resolving downloads.cs.stanford.edu (downloads.cs.stanford.edu)... 171.64.64.22\n",
      "Connecting to downloads.cs.stanford.edu (downloads.cs.stanford.edu)|171.64.64.22|:443... connected.\n",
      "HTTP request sent, awaiting response... 200 OK\n",
      "Length: 405924985 (387M) [application/octet-stream]\n",
      "Saving to: ‘colbertv2.0.tar.gz’\n",
      "\n",
      "colbertv2.0.tar.gz  100%[===================>] 387.12M  5.10MB/s    in 72s     \n",
      "\n",
      "2024-03-18 06:19:46 (5.38 MB/s) - ‘colbertv2.0.tar.gz’ saved [405924985/405924985]\n",
      "\n",
      "tar (child): downloads/colbertv2.0.tar.gz: Cannot open: No such file or directory\n",
      "tar (child): Error is not recoverable: exiting now\n",
      "tar: Child returned status 2\n",
      "tar: Error is not recoverable: exiting now\n"
     ]
    }
   ],
   "source": [
    "!wget https://downloads.cs.stanford.edu/nlp/data/colbert/colbertv2/colbertv2.0.tar.gz"
   ]
  },
  {
   "cell_type": "code",
   "execution_count": 7,
   "id": "ae421d81",
   "metadata": {
    "scrolled": true
   },
   "outputs": [
    {
     "name": "stdout",
     "output_type": "stream",
     "text": [
      "colbertv2.0/\r\n",
      "colbertv2.0/artifact.metadata\r\n",
      "colbertv2.0/vocab.txt\r\n",
      "colbertv2.0/tokenizer.json\r\n",
      "colbertv2.0/special_tokens_map.json\r\n",
      "colbertv2.0/tokenizer_config.json\r\n",
      "colbertv2.0/config.json\r\n",
      "colbertv2.0/pytorch_model.bin\r\n"
     ]
    }
   ],
   "source": [
    "!tar -xvzf colbertv2.0.tar.gz"
   ]
  },
  {
   "cell_type": "markdown",
   "id": "a3faf703",
   "metadata": {},
   "source": [
    "### Index "
   ]
  },
  {
   "cell_type": "code",
   "execution_count": 22,
   "id": "ea1f4eec",
   "metadata": {},
   "outputs": [],
   "source": [
    "#!conda install faiss-gpu"
   ]
  },
  {
   "cell_type": "code",
   "execution_count": 1,
   "id": "180d485b",
   "metadata": {},
   "outputs": [
    {
     "name": "stdout",
     "output_type": "stream",
     "text": [
      "Collecting colbert-ai==0.2.19 (from colbert-ai[faiss-gpu,torch]==0.2.19)\n",
      "  Using cached colbert-ai-0.2.19.tar.gz (86 kB)\n",
      "  Preparing metadata (setup.py) ... \u001b[?25ldone\n",
      "\u001b[?25hCollecting dspy-ai==2.3.6\n",
      "  Using cached dspy_ai-2.3.6-py3-none-any.whl.metadata (35 kB)\n",
      "Collecting bitarray (from colbert-ai==0.2.19->colbert-ai[faiss-gpu,torch]==0.2.19)\n",
      "  Using cached bitarray-2.9.2-cp311-cp311-manylinux_2_17_x86_64.manylinux2014_x86_64.whl.metadata (34 kB)\n",
      "Collecting datasets (from colbert-ai==0.2.19->colbert-ai[faiss-gpu,torch]==0.2.19)\n",
      "  Using cached datasets-2.18.0-py3-none-any.whl.metadata (20 kB)\n",
      "Collecting flask (from colbert-ai==0.2.19->colbert-ai[faiss-gpu,torch]==0.2.19)\n",
      "  Using cached flask-3.0.2-py3-none-any.whl.metadata (3.6 kB)\n",
      "Collecting git-python (from colbert-ai==0.2.19->colbert-ai[faiss-gpu,torch]==0.2.19)\n",
      "  Using cached git_python-1.0.3-py2.py3-none-any.whl.metadata (331 bytes)\n",
      "Collecting python-dotenv (from colbert-ai==0.2.19->colbert-ai[faiss-gpu,torch]==0.2.19)\n",
      "  Using cached python_dotenv-1.0.1-py3-none-any.whl.metadata (23 kB)\n",
      "Collecting ninja (from colbert-ai==0.2.19->colbert-ai[faiss-gpu,torch]==0.2.19)\n",
      "  Using cached ninja-1.11.1.1-py2.py3-none-manylinux1_x86_64.manylinux_2_5_x86_64.whl.metadata (5.3 kB)\n",
      "Collecting scipy (from colbert-ai==0.2.19->colbert-ai[faiss-gpu,torch]==0.2.19)\n",
      "  Using cached scipy-1.12.0-cp311-cp311-manylinux_2_17_x86_64.manylinux2014_x86_64.whl.metadata (60 kB)\n",
      "Requirement already satisfied: tqdm in /miniconda/lib/python3.11/site-packages (from colbert-ai==0.2.19->colbert-ai[faiss-gpu,torch]==0.2.19) (4.65.0)\n",
      "Collecting transformers (from colbert-ai==0.2.19->colbert-ai[faiss-gpu,torch]==0.2.19)\n",
      "  Using cached transformers-4.38.2-py3-none-any.whl.metadata (130 kB)\n",
      "Collecting ujson (from colbert-ai==0.2.19->colbert-ai[faiss-gpu,torch]==0.2.19)\n",
      "  Using cached ujson-5.9.0-cp311-cp311-manylinux_2_17_x86_64.manylinux2014_x86_64.whl.metadata (8.7 kB)\n",
      "Collecting backoff~=2.2.1 (from dspy-ai==2.3.6)\n",
      "  Using cached backoff-2.2.1-py3-none-any.whl.metadata (14 kB)\n",
      "Collecting joblib~=1.3.2 (from dspy-ai==2.3.6)\n",
      "  Using cached joblib-1.3.2-py3-none-any.whl.metadata (5.4 kB)\n",
      "Collecting openai<2.0.0,>=0.28.1 (from dspy-ai==2.3.6)\n",
      "  Using cached openai-1.14.1-py3-none-any.whl.metadata (18 kB)\n",
      "Requirement already satisfied: pandas in /miniconda/lib/python3.11/site-packages (from dspy-ai==2.3.6) (2.1.0)\n",
      "Collecting regex (from dspy-ai==2.3.6)\n",
      "  Using cached regex-2023.12.25-cp311-cp311-manylinux_2_17_x86_64.manylinux2014_x86_64.whl.metadata (40 kB)\n",
      "Collecting datasets (from colbert-ai==0.2.19->colbert-ai[faiss-gpu,torch]==0.2.19)\n",
      "  Using cached datasets-2.14.7-py3-none-any.whl.metadata (19 kB)\n",
      "Requirement already satisfied: requests in /miniconda/lib/python3.11/site-packages (from dspy-ai==2.3.6) (2.29.0)\n",
      "Collecting optuna (from dspy-ai==2.3.6)\n",
      "  Using cached optuna-3.6.0-py3-none-any.whl.metadata (17 kB)\n",
      "Collecting pydantic==2.5.0 (from dspy-ai==2.3.6)\n",
      "  Using cached pydantic-2.5.0-py3-none-any.whl.metadata (174 kB)\n",
      "INFO: pip is looking at multiple versions of colbert-ai[faiss-gpu,torch] to determine which version is compatible with other requirements. This could take a while.\n",
      "\u001b[31mERROR: Ignored the following versions that require a different python version: 1.6.2 Requires-Python >=3.7,<3.10; 1.6.3 Requires-Python >=3.7,<3.10; 1.7.0 Requires-Python >=3.7,<3.10; 1.7.1 Requires-Python >=3.7,<3.10; 1.7.2 Requires-Python >=3.7,<3.11; 1.7.3 Requires-Python >=3.7,<3.11; 1.8.0 Requires-Python >=3.8,<3.11; 1.8.0rc1 Requires-Python >=3.8,<3.11; 1.8.0rc2 Requires-Python >=3.8,<3.11; 1.8.0rc3 Requires-Python >=3.8,<3.11; 1.8.0rc4 Requires-Python >=3.8,<3.11; 1.8.1 Requires-Python >=3.8,<3.11\u001b[0m\u001b[31m\n",
      "\u001b[0m\u001b[31mERROR: Could not find a version that satisfies the requirement faiss-gpu>=1.7.0; extra == \"faiss-gpu\" (from colbert-ai[faiss-gpu,torch]) (from versions: none)\u001b[0m\u001b[31m\n",
      "\u001b[0m\u001b[31mERROR: No matching distribution found for faiss-gpu>=1.7.0; extra == \"faiss-gpu\"\u001b[0m\u001b[31m\n",
      "\u001b[0m"
     ]
    }
   ],
   "source": [
    "!pip install colbert-ai[torch,faiss-gpu]==0.2.19 dspy-ai==2.3.6 "
   ]
  },
  {
   "cell_type": "code",
   "execution_count": 2,
   "id": "44b13862",
   "metadata": {
    "scrolled": true
   },
   "outputs": [
    {
     "name": "stdout",
     "output_type": "stream",
     "text": [
      "Collecting colbert-ai[faiss-gpu]\n",
      "  Using cached colbert-ai-0.2.19.tar.gz (86 kB)\n",
      "  Preparing metadata (setup.py) ... \u001b[?25ldone\n",
      "\u001b[?25hCollecting bitarray (from colbert-ai[faiss-gpu])\n",
      "  Using cached bitarray-2.9.2-cp311-cp311-manylinux_2_17_x86_64.manylinux2014_x86_64.whl.metadata (34 kB)\n",
      "Collecting datasets (from colbert-ai[faiss-gpu])\n",
      "  Using cached datasets-2.18.0-py3-none-any.whl.metadata (20 kB)\n",
      "Collecting flask (from colbert-ai[faiss-gpu])\n",
      "  Using cached flask-3.0.2-py3-none-any.whl.metadata (3.6 kB)\n",
      "Collecting git-python (from colbert-ai[faiss-gpu])\n",
      "  Using cached git_python-1.0.3-py2.py3-none-any.whl.metadata (331 bytes)\n",
      "Collecting python-dotenv (from colbert-ai[faiss-gpu])\n",
      "  Using cached python_dotenv-1.0.1-py3-none-any.whl.metadata (23 kB)\n",
      "Collecting ninja (from colbert-ai[faiss-gpu])\n",
      "  Using cached ninja-1.11.1.1-py2.py3-none-manylinux1_x86_64.manylinux_2_5_x86_64.whl.metadata (5.3 kB)\n",
      "Collecting scipy (from colbert-ai[faiss-gpu])\n",
      "  Using cached scipy-1.12.0-cp311-cp311-manylinux_2_17_x86_64.manylinux2014_x86_64.whl.metadata (60 kB)\n",
      "Requirement already satisfied: tqdm in /miniconda/lib/python3.11/site-packages (from colbert-ai[faiss-gpu]) (4.65.0)\n",
      "Collecting transformers (from colbert-ai[faiss-gpu])\n",
      "  Using cached transformers-4.38.2-py3-none-any.whl.metadata (130 kB)\n",
      "Collecting ujson (from colbert-ai[faiss-gpu])\n",
      "  Using cached ujson-5.9.0-cp311-cp311-manylinux_2_17_x86_64.manylinux2014_x86_64.whl.metadata (8.7 kB)\n",
      "INFO: pip is looking at multiple versions of colbert-ai[faiss-gpu] to determine which version is compatible with other requirements. This could take a while.\n",
      "Collecting colbert-ai[faiss-gpu]\n",
      "  Using cached colbert_ai-0.2.18-py3-none-any.whl.metadata (11 kB)\n",
      "  Using cached colbert_ai-0.2.17-py3-none-any.whl.metadata (11 kB)\n",
      "Collecting spacy (from colbert-ai[faiss-gpu])\n",
      "  Using cached spacy-3.7.4-cp311-cp311-manylinux_2_17_x86_64.manylinux2014_x86_64.whl.metadata (27 kB)\n",
      "Collecting colbert-ai[faiss-gpu]\n",
      "  Using cached colbert_ai-0.2.16-py3-none-any.whl.metadata (11 kB)\n",
      "  Using cached colbert_ai-0.2.15-py3-none-any.whl.metadata (11 kB)\n",
      "\u001b[31mERROR: Cannot install colbert-ai[faiss-gpu]==0.2.15, colbert-ai[faiss-gpu]==0.2.16, colbert-ai[faiss-gpu]==0.2.17, colbert-ai[faiss-gpu]==0.2.18 and colbert-ai[faiss-gpu]==0.2.19 because these package versions have conflicting dependencies.\u001b[0m\u001b[31m\n",
      "\u001b[0m\n",
      "The conflict is caused by:\n",
      "    colbert-ai[faiss-gpu] 0.2.19 depends on faiss-gpu>=1.7.0; extra == \"faiss-gpu\"\n",
      "    colbert-ai[faiss-gpu] 0.2.18 depends on faiss-gpu>=1.7.0; extra == \"faiss-gpu\"\n",
      "    colbert-ai[faiss-gpu] 0.2.17 depends on faiss-gpu>=1.7.0; extra == \"faiss-gpu\"\n",
      "    colbert-ai[faiss-gpu] 0.2.16 depends on faiss-gpu>=1.7.0; extra == \"faiss-gpu\"\n",
      "    colbert-ai[faiss-gpu] 0.2.15 depends on faiss-gpu>=1.7.0; extra == \"faiss-gpu\"\n",
      "\n",
      "To fix this you could try to:\n",
      "1. loosen the range of package versions you've specified\n",
      "2. remove package versions to allow pip attempt to solve the dependency conflict\n",
      "\n",
      "\u001b[31mERROR: ResolutionImpossible: for help visit https://pip.pypa.io/en/latest/topics/dependency-resolution/#dealing-with-dependency-conflicts\u001b[0m\u001b[31m\n",
      "\u001b[0m"
     ]
    }
   ],
   "source": [
    "#!pip install --upgrade pip\n",
    "!pip install -U colbert-ai[faiss-gpu]\n",
    "#!pip install colbert-ai[torch,faiss-gpu]==0.2.19  dspy-ai"
   ]
  },
  {
   "cell_type": "code",
   "execution_count": 3,
   "id": "f6803148",
   "metadata": {},
   "outputs": [
    {
     "name": "stdout",
     "output_type": "stream",
     "text": [
      "Traceback (most recent call last):\r\n",
      "  File \"/home/pop/hosting/colab/easyRAG/colbert_index.py\", line 6, in <module>\r\n",
      "    from colbert.infra import Run, RunConfig, ColBERTConfig\r\n",
      "ModuleNotFoundError: No module named 'colbert'\r\n"
     ]
    }
   ],
   "source": [
    "!python colbert_index.py "
   ]
  },
  {
   "cell_type": "code",
   "execution_count": null,
   "id": "b739b334",
   "metadata": {},
   "outputs": [],
   "source": []
  },
  {
   "cell_type": "code",
   "execution_count": null,
   "id": "72227274",
   "metadata": {},
   "outputs": [],
   "source": []
  }
 ],
 "metadata": {
  "kernelspec": {
   "display_name": "Python [conda env:easyrag]",
   "language": "python",
   "name": "conda-env-easyrag-py"
  },
  "language_info": {
   "codemirror_mode": {
    "name": "ipython",
    "version": 3
   },
   "file_extension": ".py",
   "mimetype": "text/x-python",
   "name": "python",
   "nbconvert_exporter": "python",
   "pygments_lexer": "ipython3",
   "version": "3.9.0"
  }
 },
 "nbformat": 4,
 "nbformat_minor": 5
}
