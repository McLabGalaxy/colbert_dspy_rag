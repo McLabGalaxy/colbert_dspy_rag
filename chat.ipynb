{
 "cells": [
  {
   "cell_type": "code",
   "execution_count": null,
   "id": "3bd1df1a-8948-487f-94dd-3cab07475964",
   "metadata": {},
   "outputs": [],
   "source": [
    "#!pip install accelerate"
   ]
  },
  {
   "cell_type": "code",
   "execution_count": 1,
   "id": "ce1b5db8",
   "metadata": {},
   "outputs": [],
   "source": [
    "import dspy"
   ]
  },
  {
   "cell_type": "code",
   "execution_count": 2,
   "id": "8f4acebd",
   "metadata": {},
   "outputs": [
    {
     "data": {
      "application/vnd.jupyter.widget-view+json": {
       "model_id": "630f02a6214d48d1b3920cd74b9b5992",
       "version_major": 2,
       "version_minor": 0
      },
      "text/plain": [
       "model.safetensors:   0%|          | 0.00/990M [00:00<?, ?B/s]"
      ]
     },
     "metadata": {},
     "output_type": "display_data"
    },
    {
     "data": {
      "application/vnd.jupyter.widget-view+json": {
       "model_id": "6c4de1482e984722bb984caa8c2743d9",
       "version_major": 2,
       "version_minor": 0
      },
      "text/plain": [
       "generation_config.json:   0%|          | 0.00/147 [00:00<?, ?B/s]"
      ]
     },
     "metadata": {},
     "output_type": "display_data"
    }
   ],
   "source": [
    "lm = dspy.HFModel(model=\"google/flan-t5-base\", )\n",
    "retriever = dspy.ColBERTv2(url='http://localhost:8001/api/search')\n",
    "dspy.settings.configure(lm=lm, rm=retriever)"
   ]
  },
  {
   "cell_type": "code",
   "execution_count": 3,
   "id": "6fe5f9f0",
   "metadata": {},
   "outputs": [],
   "source": [
    "class BasicQA(dspy.Signature):\n",
    "    \"\"\"Answer the question with a short answer.\"\"\"\n",
    "\n",
    "    question = dspy.InputField()\n",
    "    answer = dspy.OutputField()\n",
    "\n",
    "qa = dspy.Predict(BasicQA)"
   ]
  },
  {
   "cell_type": "code",
   "execution_count": 4,
   "id": "39aabb0a",
   "metadata": {},
   "outputs": [
    {
     "name": "stderr",
     "output_type": "stream",
     "text": [
      "/miniconda/envs/easyrag/lib/python3.9/site-packages/transformers/generation/configuration_utils.py:410: UserWarning: `do_sample` is set to `False`. However, `temperature` is set to `0.0` -- this flag is only used in sample-based generation modes. You should set `do_sample=True` or unset `temperature`.\n",
      "  warnings.warn(\n"
     ]
    },
    {
     "name": "stdout",
     "output_type": "stream",
     "text": [
      "music\n"
     ]
    }
   ],
   "source": [
    "ans = qa(question=\"What is Fringe?\")\n",
    "print(ans.answer)"
   ]
  },
  {
   "cell_type": "code",
   "execution_count": 5,
   "id": "06fc2eb5",
   "metadata": {},
   "outputs": [
    {
     "name": "stdout",
     "output_type": "stream",
     "text": [
      "\"Fringe\" ---\n"
     ]
    }
   ],
   "source": [
    "ans = qa(question=\"What is the name of the third episode of Fringe?\")\n",
    "print(ans.answer)"
   ]
  },
  {
   "cell_type": "code",
   "execution_count": 7,
   "id": "4d53ec61",
   "metadata": {},
   "outputs": [],
   "source": [
    "class GenerateAnswerWithContext(dspy.Signature):\n",
    "    \"\"\"Answer the question with a short answer.\"\"\"\n",
    "\n",
    "    context = dspy.InputField(desc=\"may contain relevant facts to consider\")\n",
    "    question = dspy.InputField()\n",
    "    answer = dspy.OutputField(desc=\"short answer\")\n",
    "\n",
    "\n",
    "class RAG(dspy.Module):\n",
    "    def __init__(self, num_passages=3):\n",
    "        super().__init__()\n",
    "        self.retrieve = dspy.Retrieve(k=num_passages)\n",
    "        self.generate_answer = dspy.ChainOfThought(GenerateAnswerWithContext)\n",
    "    \n",
    "    def forward(self, question):\n",
    "        context = self.retrieve(question).passages\n",
    "        prediction = self.generate_answer(context=context, question=question)\n",
    "        return dspy.Prediction(context=context, answer=prediction.answer)\n",
    "    \n",
    "rag = RAG()"
   ]
  },
  {
   "cell_type": "code",
   "execution_count": 8,
   "id": "e488332a",
   "metadata": {},
   "outputs": [
    {
     "name": "stdout",
     "output_type": "stream",
     "text": [
      "an American science fiction television series created by J. J. Abrams, Alex Kurtzman, and Roberto Orci.\n"
     ]
    }
   ],
   "source": [
    "ans = rag(question=\"What is Fringe?\")\n",
    "print(ans.answer)"
   ]
  },
  {
   "cell_type": "code",
   "execution_count": 9,
   "id": "85e417b3",
   "metadata": {},
   "outputs": [
    {
     "name": "stdout",
     "output_type": "stream",
     "text": [
      "The Ghost Network is the third episode of the first season of the American science fiction drama television series Fringe. So, the final answer is The Ghost Network.\n"
     ]
    }
   ],
   "source": [
    "ans = rag(question=\"What is the name of the third episode of Fringe?\")\n",
    "print(ans.answer)"
   ]
  },
  {
   "cell_type": "code",
   "execution_count": 10,
   "id": "6bb69faf",
   "metadata": {},
   "outputs": [
    {
     "name": "stderr",
     "output_type": "stream",
     "text": [
      "Token indices sequence length is longer than the specified maximum sequence length for this model (846 > 512). Running this sequence through the model will result in indexing errors\n"
     ]
    },
    {
     "name": "stdout",
     "output_type": "stream",
     "text": [
      "The Fringe Division investigates cases relating to fringe science. So, the final answer is investigates cases relating to fringe science.\n"
     ]
    }
   ],
   "source": [
    "ans = rag(question=\"What does Fringe Division do?\")\n",
    "print(ans.answer)"
   ]
  },
  {
   "cell_type": "code",
   "execution_count": 11,
   "id": "bc2a7189",
   "metadata": {},
   "outputs": [
    {
     "name": "stdout",
     "output_type": "stream",
     "text": [
      "[1] \"\"\"The Arrival\"\" is the fourth episode of the first season of the American science fiction drama television series Fringe. The episode was written by the series co-creator and executive producer J. J. Abrams and executive producer Jeff Pinkner. Paul A. Edwards directed the episode, his second of the season. Early\n"
     ]
    }
   ],
   "source": [
    "ans = rag(question=\"Which episodes are directed by J. J. Abrams?\")\n",
    "print(ans.answer)"
   ]
  },
  {
   "cell_type": "code",
   "execution_count": 12,
   "id": "bff7e58a",
   "metadata": {},
   "outputs": [
    {
     "name": "stdout",
     "output_type": "stream",
     "text": [
      "\n",
      "\n",
      "\n",
      "\n",
      "Answer the question with a short answer.\n",
      "\n",
      "---\n",
      "\n",
      "Follow the following format.\n",
      "\n",
      "Context: may contain relevant facts to consider\n",
      "\n",
      "Question: ${question}\n",
      "\n",
      "Reasoning: Let's think step by step in order to ${produce the answer}. We ...\n",
      "\n",
      "Answer: short answer\n",
      "\n",
      "---\n",
      "\n",
      "Context:\n",
      "[1] «\"\"\"The Ghost Network\"\" is the third episode of the first season of the American science fiction drama television series Fringe. The episode was written by co-executive producer David H. Goodman and supervising producer J. R. Orci, and was directed by Frederick E. O. Toye. The episode follows the Fringe team's investigation into a bus that was filled with amber, encasing the people inside. They discover a man named Roy (Zak Orth) who predicted it and other similar events, and Walter realizes Roy has connections to a past experiment he did over twenty years ago, called the \"\"Ghost Network\"\".\"»\n",
      "[2] «\"\"\"The Arrival\"\" is the fourth episode of the first season of the American science fiction drama television series Fringe. The episode was written by the series co-creator and executive producer J. J. Abrams and executive producer and show runner  Jeff Pinkner. Paul A. Edwards directed it.\"»\n",
      "[3] «\"\"\"The Same Old Story\"\" is the second episode of the first season of the American science fiction drama television series Fringe. The episode was written by executive producer Jeff Pinkner and co-creators J. J. Abrams, Alex Kurtzman, and Roberto Orci.  When developing the series, they sought to find a medium between serialized drama and the crime procedural. \"\"The Same Old Story\"\" was the first regular episode of Fringe, and journalists viewed it as an example of what they could expect from the series. It was directed by Paul A. Edwards.\"»\n",
      "\n",
      "Question: What is the name of the third episode of Fringe?\n",
      "\n",
      "Reasoning: Let's think step by step in order to The Ghost Network ---\n",
      "\n",
      "Answer:\u001b[32mThe Ghost Network is the third episode of the first season of the American science fiction drama television series Fringe. So, the final answer is The Ghost Network.\u001b[0m\n",
      "\n",
      "\n",
      "\n",
      "\n",
      "\n",
      "\n",
      "\n",
      "Answer the question with a short answer.\n",
      "\n",
      "---\n",
      "\n",
      "Follow the following format.\n",
      "\n",
      "Context: may contain relevant facts to consider\n",
      "\n",
      "Question: ${question}\n",
      "\n",
      "Reasoning: Let's think step by step in order to ${produce the answer}. We ...\n",
      "\n",
      "Answer: short answer\n",
      "\n",
      "---\n",
      "\n",
      "Context:\n",
      "[1] «\"Fringe follows the casework of the Fringe Division, a Joint Federal Task Force supported primarily by the Federal Bureau of Investigation, which includes Agent Olivia Dunham, Dr. Walter Bishop, the archetypal mad scientist, and Peter Bishop, Walter's estranged son and jack-of-all-trades. They are supported by Phillip Broyles (Lance Reddick), the force's director, and Agent Astrid Farnsworth (Jasika Nicole), who assists Walter in laboratory research. The Fringe Division investigates cases relating to fringe science, ranging from transhumanist experiments gone wrong to the prospect of a destructive technological singularity to a possible collision of two parallel universes. The Fringe Division's work often intersects with advanced biotechnology developed by a company called Massive Dynamic, founded by Walter's former partner, Dr. William Bell (Leonard Nimoy), and run by their common friend, Nina Sharp (Blair Brown). The team is also watched silently by a group of bald, pale white men who are called \"\"Observers\"\".\"»\n",
      "[2] «Fringe is an American science fiction television series created by J. J. Abrams, Alex Kurtzman, and Roberto Orci. It premiered on the Fox television network on September 9, 2008, and concluded on January 18, 2013, after five seasons comprising 100 episodes. An FBI agent, Olivia Dunham (Anna Torv); a genius but dysfunctional scientist, Walter Bishop (John Noble); and his son with a troubled past, Peter Bishop (Joshua Jackson), are all members of a newly formed Fringe Division in the Federal Bureau of Investigation. Based in Boston, Massachusetts, the team uses fringe science to investigate a series of unexplained and often ghastly occurrences which are related to a parallel universe.»\n",
      "[3] «Fringe Division investigate the murder of Bob Dunn (Richard Short) in his apartment. He is found with a severed spinal column, and his spinal fluid drained out. While autopsying the body, Walter Bishop (John Noble) finds human teeth marks, and that the killer's saliva contains traces of an extinct strain of syphilis. The team discover that a lab sample of the strain was sold to Lubov Pharmaceutical, which also bought other samples of bacteria. Lubov has ties with ZFT. The investigation leads to the address of Nicholas Boone (Jefferson Mays), the head of the company. Boone admits he works for the bioterrorist group ZFT, and will give them everything he knows on the organization if they save his wife Valerie (Trieste Dunn) from them. After leading Olivia Dunham (Anna Torv) to a restaurant, a ZFT hideout, she finds no sign of her, and Boone admits that Valerie is the killer they are looking for; ZFT infected her with a contagion when Boone initially refused to cooperate. The contagion burns spinal fluid faster than her body can replace it. In a vain effort to work on a cure several weeks previous, Boone used some of his own spinal fluid, costing him the use of his legs. Over the course of the episode, two more male bodies are discovered, having died in a similar manner.»\n",
      "\n",
      "Question: What does Fringe Division do?\n",
      "\n",
      "Reasoning: Let's think step by step in order to\u001b[32mThe Fringe Division investigates cases relating to fringe science. So, the final answer is investigates cases relating to fringe science.\u001b[0m\n",
      "\n",
      "\n",
      "\n",
      "\n",
      "\n",
      "\n",
      "\n",
      "Answer the question with a short answer.\n",
      "\n",
      "---\n",
      "\n",
      "Follow the following format.\n",
      "\n",
      "Context: may contain relevant facts to consider\n",
      "\n",
      "Question: ${question}\n",
      "\n",
      "Reasoning: Let's think step by step in order to ${produce the answer}. We ...\n",
      "\n",
      "Answer: short answer\n",
      "\n",
      "---\n",
      "\n",
      "Context:\n",
      "[1] «\"Fringe follows the casework of the Fringe Division, a Joint Federal Task Force supported primarily by the Federal Bureau of Investigation, which includes Agent Olivia Dunham, Dr. Walter Bishop, the archetypal mad scientist, and Peter Bishop, Walter's estranged son and jack-of-all-trades. They are supported by Phillip Broyles (Lance Reddick), the force's director, and Agent Astrid Farnsworth (Jasika Nicole), who assists Walter in laboratory research. The Fringe Division investigates cases relating to fringe science, ranging from transhumanist experiments gone wrong to the prospect of a destructive technological singularity to a possible collision of two parallel universes. The Fringe Division's work often intersects with advanced biotechnology developed by a company called Massive Dynamic, founded by Walter's former partner, Dr. William Bell (Leonard Nimoy), and run by their common friend, Nina Sharp (Blair Brown). The team is also watched silently by a group of bald, pale white men who are called \"\"Observers\"\".\"»\n",
      "[2] «Fringe is an American science fiction television series created by J. J. Abrams, Alex Kurtzman, and Roberto Orci. It premiered on the Fox television network on September 9, 2008, and concluded on January 18, 2013, after five seasons comprising 100 episodes. An FBI agent, Olivia Dunham (Anna Torv); a genius but dysfunctional scientist, Walter Bishop (John Noble); and his son with a troubled past, Peter Bishop (Joshua Jackson), are all members of a newly formed Fringe Division in the Federal Bureau of Investigation. Based in Boston, Massachusetts, the team uses fringe science to investigate a series of unexplained and often ghastly occurrences which are related to a parallel universe.»\n",
      "[3] «Fringe Division investigate the murder of Bob Dunn (Richard Short) in his apartment. He is found with a severed spinal column, and his spinal fluid drained out. While autopsying the body, Walter Bishop (John Noble) finds human teeth marks, and that the killer's saliva contains traces of an extinct strain of syphilis. The team discover that a lab sample of the strain was sold to Lubov Pharmaceutical, which also bought other samples of bacteria. Lubov has ties with ZFT. The investigation leads to the address of Nicholas Boone (Jefferson Mays), the head of the company. Boone admits he works for the bioterrorist group ZFT, and will give them everything he knows on the organization if they save his wife Valerie (Trieste Dunn) from them. After leading Olivia Dunham (Anna Torv) to a restaurant, a ZFT hideout, she finds no sign of her, and Boone admits that Valerie is the killer they are looking for; ZFT infected her with a contagion when Boone initially refused to cooperate. The contagion burns spinal fluid faster than her body can replace it. In a vain effort to work on a cure several weeks previous, Boone used some of his own spinal fluid, costing him the use of his legs. Over the course of the episode, two more male bodies are discovered, having died in a similar manner.»\n",
      "\n",
      "Question: What does Fringe Division do?\n",
      "\n",
      "Reasoning: Let's think step by step in order to The Fringe Division investigates cases relating to fringe science. So, the final answer is investigates cases relating to fringe science.\n",
      "\n",
      "Answer:\u001b[32mThe Fringe Division investigates cases relating to fringe science. So, the final answer is investigates cases relating to fringe science.\u001b[0m\n",
      "\n",
      "\n",
      "\n",
      "\n",
      "\n",
      "\n",
      "\n",
      "Answer the question with a short answer.\n",
      "\n",
      "---\n",
      "\n",
      "Follow the following format.\n",
      "\n",
      "Context: may contain relevant facts to consider\n",
      "\n",
      "Question: ${question}\n",
      "\n",
      "Reasoning: Let's think step by step in order to ${produce the answer}. We ...\n",
      "\n",
      "Answer: short answer\n",
      "\n",
      "---\n",
      "\n",
      "Context:\n",
      "[1] «\"\"\"The Arrival\"\" is the fourth episode of the first season of the American science fiction drama television series Fringe. The episode was written by the series co-creator and executive producer J. J. Abrams and executive producer and show runner  Jeff Pinkner. Paul A. Edwards directed it.\"»\n",
      "[2] «The pilot episode of the Fringe television series premiered on the Fox network on September 9, 2008. The pilot to season 1 was written by the creators of the series—J. J. Abrams, Alex Kurtzman, and Roberto Orci—and directed by Alex Graves. The episode introduces the most central character, Olivia Dunham, portrayed by Anna Torv, an FBI special agent forced into the world of applied fringe science after a number of freak incidents. Dr. Walter Bishop, a scientist formerly incarcerated in a mental institution for over seventeen years, is portrayed by John Noble, while Joshua Jackson plays his son, Peter, who is hired by Olivia to assist with Walter and his work.»\n",
      "[3] «\"\"\"The Arrival\"\" was written by co-creator J. J. Abrams and executive producer Jeff Pinkner. Paul A. Edwards directed the episode, his second of the season. Early in the series, actress Jasika Nicole feared her character was going to become liked by the audience only to suddenly die. She explained that \"\"When I was reading the script in the episode where Dr. Bishop stabs her in the neck with the sedative … and all [the script] says is, 'Dr. Bishop grabs Astrid from behind and jams the needle into her neck.' Then it fades to black. My mouth hung open for awhile and I was like, 'Oh my God, I only made it through six episodes.\"\"\"»\n",
      "\n",
      "Question: Which episodes are directed by J. J. Abrams?\n",
      "\n",
      "Reasoning: Let's think step by step in order to\u001b[32m[3]\u001b[0m\n",
      "\n",
      "\n",
      "\n",
      "\n",
      "\n",
      "\n",
      "\n",
      "Answer the question with a short answer.\n",
      "\n",
      "---\n",
      "\n",
      "Follow the following format.\n",
      "\n",
      "Context: may contain relevant facts to consider\n",
      "\n",
      "Question: ${question}\n",
      "\n",
      "Reasoning: Let's think step by step in order to ${produce the answer}. We ...\n",
      "\n",
      "Answer: short answer\n",
      "\n",
      "---\n",
      "\n",
      "Context:\n",
      "[1] «\"\"\"The Arrival\"\" is the fourth episode of the first season of the American science fiction drama television series Fringe. The episode was written by the series co-creator and executive producer J. J. Abrams and executive producer and show runner  Jeff Pinkner. Paul A. Edwards directed it.\"»\n",
      "[2] «The pilot episode of the Fringe television series premiered on the Fox network on September 9, 2008. The pilot to season 1 was written by the creators of the series—J. J. Abrams, Alex Kurtzman, and Roberto Orci—and directed by Alex Graves. The episode introduces the most central character, Olivia Dunham, portrayed by Anna Torv, an FBI special agent forced into the world of applied fringe science after a number of freak incidents. Dr. Walter Bishop, a scientist formerly incarcerated in a mental institution for over seventeen years, is portrayed by John Noble, while Joshua Jackson plays his son, Peter, who is hired by Olivia to assist with Walter and his work.»\n",
      "[3] «\"\"\"The Arrival\"\" was written by co-creator J. J. Abrams and executive producer Jeff Pinkner. Paul A. Edwards directed the episode, his second of the season. Early in the series, actress Jasika Nicole feared her character was going to become liked by the audience only to suddenly die. She explained that \"\"When I was reading the script in the episode where Dr. Bishop stabs her in the neck with the sedative … and all [the script] says is, 'Dr. Bishop grabs Astrid from behind and jams the needle into her neck.' Then it fades to black. My mouth hung open for awhile and I was like, 'Oh my God, I only made it through six episodes.\"\"\"»\n",
      "\n",
      "Question: Which episodes are directed by J. J. Abrams?\n",
      "\n",
      "Reasoning: Let's think step by step in order to [3]\n",
      "\n",
      "Answer:\u001b[32m[1] \"\"\"The Arrival\"\" is the fourth episode of the first season of the American science fiction drama television series Fringe. The episode was written by the series co-creator and executive producer J. J. Abrams and executive producer Jeff Pinkner. Paul A. Edwards directed the episode, his second of the season. Early\u001b[0m\n",
      "\n",
      "\n",
      "\n"
     ]
    }
   ],
   "source": [
    "lm.inspect_history(n=5)"
   ]
  },
  {
   "cell_type": "code",
   "execution_count": null,
   "id": "caab4fdc",
   "metadata": {},
   "outputs": [],
   "source": []
  }
 ],
 "metadata": {
  "kernelspec": {
   "display_name": "Python 3 (ipykernel)",
   "language": "python",
   "name": "python3"
  },
  "language_info": {
   "codemirror_mode": {
    "name": "ipython",
    "version": 3
   },
   "file_extension": ".py",
   "mimetype": "text/x-python",
   "name": "python",
   "nbconvert_exporter": "python",
   "pygments_lexer": "ipython3",
   "version": "3.9.0"
  }
 },
 "nbformat": 4,
 "nbformat_minor": 5
}
